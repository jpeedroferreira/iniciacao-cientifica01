{
 "cells": [
  {
   "attachments": {
    "auger-logo.jpeg": {
     "image/jpeg": "[encoded data removed]"
    }
   },
   "cell_type": "markdown",
   "metadata": {
    "papermill": {
     "duration": 0.025088,
     "end_time": "2021-10-21T16:35:43.833499",
     "exception": false,
     "start_time": "2021-10-21T16:35:43.808411",
     "status": "completed"
    },
    "tags": []
   },
   "source": [
    "![auger-logo.jpeg](attachment:auger-logo.jpeg)\n",
    "\n",
    "# Weather correction of the energy estimator\n",
    "\n",
    "<i>Notebook released together with the Pierre Auger Observatory Open Data release 2021 (<a href=\"https://doi.org/10.5281/zenodo.4487612\">DOI 10.5281/zenodo.4487612</a>). More information at the <a href=\"https://opendata.auger.org/\">Auger Open Data website</a>.</i>\n",
    "\n",
    "Atmospheric effects on the development of extensive air showers can be understood in terms of local changes in atmospheric parameters. Changes in the atmospheric pressure lead to changes in the rates of the recorded showers. When the pressure rises, there is more material for the cosmic rays to cross and so the detected rate falls. At fixed pressure, if the temperature increases, the particles in the shower will spread out more as the distance travelled between each scattering rises. This effect is described by the Molière radius which is thus a function both of temperature and pressure. This radius has a mean value of ~90 m at the Auger Observatory and defines the spread of the electrons in the showers. Changes in the bulk properties of the atmosphere such as air pressure, temperature, and humidity, have a significant effects on the rate of nitrogen fluorescence emission, as well as on light transmission.\n",
    "<p>\n",
    "In this notebook we show how the energy assignment can be corrected to account for such atmospheric effects. The value of the calculated correction is then compared with that contained in the Pierre Auger Observatory Open Data, where it is referred as 'wcorr'.\n",
    " </p>\n",
    "\n",
    "The atmospheric effects on the energy reconstruction are described in [A. Aab et al 2017 JINST 12 P02006](https://iopscience.iop.org/article/10.1088/1748-0221/12/02/P02006) ,  [arXiv](https://arxiv.org/abs/1702.02835).\n"
   ]
  },
  {
   "cell_type": "markdown",
   "metadata": {
    "papermill": {
     "duration": 0.019034,
     "end_time": "2021-10-21T16:35:43.873028",
     "exception": false,
     "start_time": "2021-10-21T16:35:43.853994",
     "status": "completed"
    },
    "tags": []
   },
   "source": [
    "## Notebook setup\n",
    "\n",
    "Importing of some python packages and the definition of some default settings is required."
   ]
  },
  {
   "cell_type": "code",
   "execution_count": 1,
   "metadata": {
    "execution": {
     "iopub.execute_input": "2021-10-21T16:35:43.918589Z",
     "iopub.status.busy": "2021-10-21T16:35:43.916234Z",
     "iopub.status.idle": "2021-10-21T16:35:44.220516Z",
     "shell.execute_reply": "2021-10-21T16:35:44.221315Z",
     "shell.execute_reply.started": "2021-10-21T16:29:33.498093Z"
    },
    "papermill": {
     "duration": 0.32919,
     "end_time": "2021-10-21T16:35:44.221559",
     "exception": false,
     "start_time": "2021-10-21T16:35:43.892369",
     "status": "completed"
    },
    "tags": []
   },
   "outputs": [],
   "source": [
    "import pandas as pd\n",
    "import matplotlib.pyplot as plt\n",
    "import numpy as np\n",
    "from scipy.interpolate import interp1d\n",
    "\n",
    "from collections import namedtuple\n",
    "import datetime\n",
    "import pytz"
   ]
  },
  {
   "cell_type": "code",
   "execution_count": 2,
   "metadata": {
    "execution": {
     "iopub.execute_input": "2021-10-21T16:35:44.270976Z",
     "iopub.status.busy": "2021-10-21T16:35:44.270347Z",
     "iopub.status.idle": "2021-10-21T16:35:44.278424Z",
     "shell.execute_reply": "2021-10-21T16:35:44.278944Z",
     "shell.execute_reply.started": "2021-10-21T16:29:33.506298Z"
    },
    "papermill": {
     "duration": 0.030372,
     "end_time": "2021-10-21T16:35:44.279126",
     "exception": false,
     "start_time": "2021-10-21T16:35:44.248754",
     "status": "completed"
    },
    "tags": []
   },
   "outputs": [],
   "source": [
    "# Plotting\n",
    "from matplotlib.offsetbox import TextArea, DrawingArea, OffsetImage, AnnotationBbox\n",
    "import matplotlib.pyplot as plt\n",
    "import matplotlib.image as mpimg\n",
    "import matplotlib.ticker as mticker\n",
    "\n",
    "# Default values for plots\n",
    "plt.rcParams[\"figure.figsize\"] = [14, 9] # figure width and height\n",
    "plt.rcParams[\"font.size\"] = 4\n",
    "\n",
    "plt.rcParams['xtick.labelsize']=20\n",
    "plt.rcParams['ytick.labelsize']=18\n",
    "\n",
    "plt.rcParams['xtick.major.size']=10\n",
    "plt.rcParams['xtick.minor.size']=6\n",
    "plt.rcParams['ytick.major.size']=10\n",
    "plt.rcParams['ytick.minor.size']=6\n",
    "\n",
    "\n",
    "\n",
    "# Jupyter/ IPython formatting\n",
    "from IPython.display import Math, Latex, display"
   ]
  },
  {
   "cell_type": "markdown",
   "metadata": {
    "papermill": {
     "duration": 0.018919,
     "end_time": "2021-10-21T16:35:44.317753",
     "exception": false,
     "start_time": "2021-10-21T16:35:44.298834",
     "status": "completed"
    },
    "tags": []
   },
   "source": [
    "## Local time conversion\n",
    "We define a function to set local time at the Observatory:"
   ]
  },
  {
   "cell_type": "code",
   "execution_count": 3,
   "metadata": {
    "execution": {
     "iopub.execute_input": "2021-10-21T16:35:44.359874Z",
     "iopub.status.busy": "2021-10-21T16:35:44.359196Z",
     "iopub.status.idle": "2021-10-21T16:35:44.403730Z",
     "shell.execute_reply": "2021-10-21T16:35:44.404458Z",
     "shell.execute_reply.started": "2021-10-21T16:29:33.525180Z"
    },
    "papermill": {
     "duration": 0.067431,
     "end_time": "2021-10-21T16:35:44.404653",
     "exception": false,
     "start_time": "2021-10-21T16:35:44.337222",
     "status": "completed"
    },
    "tags": []
   },
   "outputs": [],
   "source": [
    "#set Malargue timezone to convert Unix time in local time\n",
    "malargue_tz = pytz.timezone('America/Argentina/Mendoza') # UTC-3\n",
    "\n",
    "def read_ws(fn, utc=False):\n",
    "    df = pd.read_csv(fn)\n",
    "    date = pd.to_datetime(df.time.values, unit='s', utc=True)\n",
    "    if utc:\n",
    "        date = pd.to_datetime(df.time.values, unit='s', utc=True)\n",
    "    else:\n",
    "        date = pd.to_datetime(df.time.values, unit='s', utc=True).tz_convert(malargue_tz)\n",
    "    df.set_index(date, inplace=True)\n",
    "    return df"
   ]
  },
  {
   "cell_type": "markdown",
   "metadata": {
    "papermill": {
     "duration": 0.018688,
     "end_time": "2021-10-21T16:35:44.443750",
     "exception": false,
     "start_time": "2021-10-21T16:35:44.425062",
     "status": "completed"
    },
    "tags": []
   },
   "source": [
    "## Read data\n",
    "We define a function to open and read the data:"
   ]
  },
  {
   "cell_type": "code",
   "execution_count": 4,
   "metadata": {
    "execution": {
     "iopub.execute_input": "2021-10-21T16:35:44.495818Z",
     "iopub.status.busy": "2021-10-21T16:35:44.494615Z",
     "iopub.status.idle": "2021-10-21T16:35:44.497384Z",
     "shell.execute_reply": "2021-10-21T16:35:44.498233Z",
     "shell.execute_reply.started": "2021-10-21T16:29:33.544810Z"
    },
    "papermill": {
     "duration": 0.035913,
     "end_time": "2021-10-21T16:35:44.498513",
     "exception": false,
     "start_time": "2021-10-21T16:35:44.462600",
     "status": "completed"
    },
    "tags": []
   },
   "outputs": [],
   "source": [
    "# Data loading, encapsulated to make it less installation and OS dependant\n",
    "import os.path\n",
    "from zipfile import ZipFile\n",
    "def AugerOpen(fdir, file):\n",
    "    \"\"\"\n",
    "    Loads a file from the auger open data release. Can be either in the local directory,\n",
    "    in the parent directory or in the augeropendata directory.\n",
    "    File is identified by it directory *fdir* and filename *file* and can be found in the directory\n",
    "    or in a zip file.\n",
    "    \"\"\"\n",
    "    for loc in [\".\", \"..\", \"augeropendata\", \"data\"]:\n",
    "        fname = os.path.join(loc, fdir, file)\n",
    "        if os.path.isfile(fname):\n",
    "            return open(fname)\n",
    "        zname=os.path.join(loc, fdir + \".zip\")\n",
    "        if os.path.isfile(zname):\n",
    "            with ZipFile(zname) as myzip:\n",
    "                return myzip.open(os.path.join(fdir, file))\n",
    "    raise FileNotFoundError(os.path.join(fdir, file))\n"
   ]
  },
  {
   "cell_type": "markdown",
   "metadata": {
    "papermill": {
     "duration": 0.019809,
     "end_time": "2021-10-21T16:35:44.544491",
     "exception": false,
     "start_time": "2021-10-21T16:35:44.524682",
     "status": "completed"
    },
    "tags": []
   },
   "source": [
    "We upload the data summary file as a Panda dataframe for easy handling subsequently:"
   ]
  },
  {
   "cell_type": "code",
   "execution_count": 5,
   "metadata": {
    "execution": {
     "iopub.execute_input": "2021-10-21T16:35:44.589163Z",
     "iopub.status.busy": "2021-10-21T16:35:44.587213Z",
     "iopub.status.idle": "2021-10-21T16:35:46.373541Z",
     "shell.execute_reply": "2021-10-21T16:35:46.374190Z",
     "shell.execute_reply.started": "2021-10-21T16:29:33.560920Z"
    },
    "papermill": {
     "duration": 1.809847,
     "end_time": "2021-10-21T16:35:46.374366",
     "exception": false,
     "start_time": "2021-10-21T16:35:44.564519",
     "status": "completed"
    },
    "tags": []
   },
   "outputs": [
    {
     "data": {
      "text/html": [
       "<div>\n",
       "<style scoped>\n",
       "    .dataframe tbody tr th:only-of-type {\n",
       "        vertical-align: middle;\n",
       "    }\n",
       "\n",
       "    .dataframe tbody tr th {\n",
       "        vertical-align: top;\n",
       "    }\n",
       "\n",
       "    .dataframe thead th {\n",
       "        text-align: right;\n",
       "    }\n",
       "</style>\n",
       "<table border=\"1\" class=\"dataframe\">\n",
       "  <thead>\n",
       "    <tr style=\"text-align: right;\">\n",
       "      <th></th>\n",
       "      <th>time</th>\n",
       "      <th>temperature</th>\n",
       "      <th>pressure</th>\n",
       "      <th>density</th>\n",
       "      <th>density2HoursBefore</th>\n",
       "    </tr>\n",
       "  </thead>\n",
       "  <tbody>\n",
       "    <tr>\n",
       "      <th>2003-12-31 21:05:00-03:00</th>\n",
       "      <td>1072915500</td>\n",
       "      <td>19.91</td>\n",
       "      <td>864.9</td>\n",
       "      <td>1.028</td>\n",
       "      <td>1.025</td>\n",
       "    </tr>\n",
       "    <tr>\n",
       "      <th>2003-12-31 21:10:00-03:00</th>\n",
       "      <td>1072915800</td>\n",
       "      <td>19.75</td>\n",
       "      <td>864.9</td>\n",
       "      <td>1.028</td>\n",
       "      <td>1.026</td>\n",
       "    </tr>\n",
       "    <tr>\n",
       "      <th>2003-12-31 21:15:00-03:00</th>\n",
       "      <td>1072916100</td>\n",
       "      <td>19.50</td>\n",
       "      <td>864.9</td>\n",
       "      <td>1.029</td>\n",
       "      <td>1.027</td>\n",
       "    </tr>\n",
       "    <tr>\n",
       "      <th>2003-12-31 21:20:00-03:00</th>\n",
       "      <td>1072916400</td>\n",
       "      <td>19.25</td>\n",
       "      <td>864.9</td>\n",
       "      <td>1.029</td>\n",
       "      <td>1.028</td>\n",
       "    </tr>\n",
       "    <tr>\n",
       "      <th>2003-12-31 21:25:00-03:00</th>\n",
       "      <td>1072916700</td>\n",
       "      <td>19.18</td>\n",
       "      <td>864.9</td>\n",
       "      <td>1.029</td>\n",
       "      <td>1.028</td>\n",
       "    </tr>\n",
       "    <tr>\n",
       "      <th>2003-12-31 21:30:00-03:00</th>\n",
       "      <td>1072917000</td>\n",
       "      <td>19.05</td>\n",
       "      <td>864.9</td>\n",
       "      <td>1.030</td>\n",
       "      <td>1.028</td>\n",
       "    </tr>\n",
       "    <tr>\n",
       "      <th>2003-12-31 21:35:00-03:00</th>\n",
       "      <td>1072917300</td>\n",
       "      <td>19.20</td>\n",
       "      <td>864.9</td>\n",
       "      <td>1.030</td>\n",
       "      <td>1.028</td>\n",
       "    </tr>\n",
       "    <tr>\n",
       "      <th>2003-12-31 21:40:00-03:00</th>\n",
       "      <td>1072917600</td>\n",
       "      <td>19.35</td>\n",
       "      <td>864.9</td>\n",
       "      <td>1.030</td>\n",
       "      <td>1.027</td>\n",
       "    </tr>\n",
       "    <tr>\n",
       "      <th>2003-12-31 21:45:00-03:00</th>\n",
       "      <td>1072917900</td>\n",
       "      <td>19.12</td>\n",
       "      <td>864.9</td>\n",
       "      <td>1.030</td>\n",
       "      <td>1.028</td>\n",
       "    </tr>\n",
       "    <tr>\n",
       "      <th>2003-12-31 21:50:00-03:00</th>\n",
       "      <td>1072918200</td>\n",
       "      <td>18.95</td>\n",
       "      <td>864.9</td>\n",
       "      <td>1.030</td>\n",
       "      <td>1.029</td>\n",
       "    </tr>\n",
       "  </tbody>\n",
       "</table>\n",
       "</div>"
      ],
      "text/plain": [
       "                                 time  temperature  pressure  density  \\\n",
       "2003-12-31 21:05:00-03:00  1072915500        19.91     864.9    1.028   \n",
       "2003-12-31 21:10:00-03:00  1072915800        19.75     864.9    1.028   \n",
       "2003-12-31 21:15:00-03:00  1072916100        19.50     864.9    1.029   \n",
       "2003-12-31 21:20:00-03:00  1072916400        19.25     864.9    1.029   \n",
       "2003-12-31 21:25:00-03:00  1072916700        19.18     864.9    1.029   \n",
       "2003-12-31 21:30:00-03:00  1072917000        19.05     864.9    1.030   \n",
       "2003-12-31 21:35:00-03:00  1072917300        19.20     864.9    1.030   \n",
       "2003-12-31 21:40:00-03:00  1072917600        19.35     864.9    1.030   \n",
       "2003-12-31 21:45:00-03:00  1072917900        19.12     864.9    1.030   \n",
       "2003-12-31 21:50:00-03:00  1072918200        18.95     864.9    1.030   \n",
       "\n",
       "                           density2HoursBefore  \n",
       "2003-12-31 21:05:00-03:00                1.025  \n",
       "2003-12-31 21:10:00-03:00                1.026  \n",
       "2003-12-31 21:15:00-03:00                1.027  \n",
       "2003-12-31 21:20:00-03:00                1.028  \n",
       "2003-12-31 21:25:00-03:00                1.028  \n",
       "2003-12-31 21:30:00-03:00                1.028  \n",
       "2003-12-31 21:35:00-03:00                1.028  \n",
       "2003-12-31 21:40:00-03:00                1.027  \n",
       "2003-12-31 21:45:00-03:00                1.028  \n",
       "2003-12-31 21:50:00-03:00                1.029  "
      ]
     },
     "execution_count": 5,
     "metadata": {},
     "output_type": "execute_result"
    }
   ],
   "source": [
    "#import weather station data as dataframes\n",
    "wsData = read_ws(AugerOpen(\"weatherStations\", \"weather.csv\"))\n",
    "#display first 10 entries\n",
    "wsData.head(10)"
   ]
  },
  {
   "cell_type": "code",
   "execution_count": 6,
   "metadata": {
    "execution": {
     "iopub.execute_input": "2021-10-21T16:35:46.420531Z",
     "iopub.status.busy": "2021-10-21T16:35:46.418253Z",
     "iopub.status.idle": "2021-10-21T16:35:46.423762Z",
     "shell.execute_reply": "2021-10-21T16:35:46.423211Z",
     "shell.execute_reply.started": "2021-10-21T16:29:34.736596Z"
    },
    "papermill": {
     "duration": 0.029553,
     "end_time": "2021-10-21T16:35:46.423912",
     "exception": false,
     "start_time": "2021-10-21T16:35:46.394359",
     "status": "completed"
    },
    "tags": []
   },
   "outputs": [],
   "source": [
    "gps_utc_leapseconds = pd.Timedelta(seconds=18) # from the beginning of the GPS epoch to now\n",
    "gps_epoch = pd.Timestamp('1980-01-06') - gps_utc_leapseconds"
   ]
  },
  {
   "cell_type": "code",
   "execution_count": 7,
   "metadata": {
    "execution": {
     "iopub.execute_input": "2021-10-21T16:35:46.471045Z",
     "iopub.status.busy": "2021-10-21T16:35:46.470384Z",
     "iopub.status.idle": "2021-10-21T16:35:46.740208Z",
     "shell.execute_reply": "2021-10-21T16:35:46.739567Z",
     "shell.execute_reply.started": "2021-10-21T16:29:34.743389Z"
    },
    "papermill": {
     "duration": 0.295969,
     "end_time": "2021-10-21T16:35:46.740373",
     "exception": false,
     "start_time": "2021-10-21T16:35:46.444404",
     "status": "completed"
    },
    "tags": []
   },
   "outputs": [],
   "source": [
    "#import cosmic-rays data as dataframes\n",
    "\n",
    "df = pd.read_csv(AugerOpen(\"summary\", \"dataSummary.csv\"))\n",
    "df = df[df.sdStandard==1]\n",
    "df['utctime'] = df.gpstime + gps_epoch.timestamp()\n",
    "df.set_index('id', inplace=True, drop=False)"
   ]
  },
  {
   "cell_type": "code",
   "execution_count": 8,
   "metadata": {
    "execution": {
     "iopub.execute_input": "2021-10-21T16:35:46.814133Z",
     "iopub.status.busy": "2021-10-21T16:35:46.795878Z",
     "iopub.status.idle": "2021-10-21T16:35:46.820230Z",
     "shell.execute_reply": "2021-10-21T16:35:46.819675Z",
     "shell.execute_reply.started": "2021-10-21T16:29:34.965586Z"
    },
    "papermill": {
     "duration": 0.058833,
     "end_time": "2021-10-21T16:35:46.820375",
     "exception": false,
     "start_time": "2021-10-21T16:35:46.761542",
     "status": "completed"
    },
    "tags": []
   },
   "outputs": [
    {
     "data": {
      "text/html": [
       "<div>\n",
       "<style scoped>\n",
       "    .dataframe tbody tr th:only-of-type {\n",
       "        vertical-align: middle;\n",
       "    }\n",
       "\n",
       "    .dataframe tbody tr th {\n",
       "        vertical-align: top;\n",
       "    }\n",
       "\n",
       "    .dataframe thead th {\n",
       "        text-align: right;\n",
       "    }\n",
       "</style>\n",
       "<table border=\"1\" class=\"dataframe\">\n",
       "  <thead>\n",
       "    <tr style=\"text-align: right;\">\n",
       "      <th></th>\n",
       "      <th>id</th>\n",
       "      <th>sdid</th>\n",
       "      <th>gpstime</th>\n",
       "      <th>sdStandard</th>\n",
       "      <th>multiEye</th>\n",
       "      <th>sd_gpsnanotime</th>\n",
       "      <th>sd_theta</th>\n",
       "      <th>sd_dtheta</th>\n",
       "      <th>sd_phi</th>\n",
       "      <th>sd_dphi</th>\n",
       "      <th>...</th>\n",
       "      <th>fd_minViewAngle</th>\n",
       "      <th>fd_uspL</th>\n",
       "      <th>fd_duspL</th>\n",
       "      <th>fd_uspR</th>\n",
       "      <th>fd_duspR</th>\n",
       "      <th>fd_hottestStationId</th>\n",
       "      <th>fd_distSdpStation</th>\n",
       "      <th>fd_distAxisStation</th>\n",
       "      <th>sd_exposure</th>\n",
       "      <th>utctime</th>\n",
       "    </tr>\n",
       "    <tr>\n",
       "      <th>id</th>\n",
       "      <th></th>\n",
       "      <th></th>\n",
       "      <th></th>\n",
       "      <th></th>\n",
       "      <th></th>\n",
       "      <th></th>\n",
       "      <th></th>\n",
       "      <th></th>\n",
       "      <th></th>\n",
       "      <th></th>\n",
       "      <th></th>\n",
       "      <th></th>\n",
       "      <th></th>\n",
       "      <th></th>\n",
       "      <th></th>\n",
       "      <th></th>\n",
       "      <th></th>\n",
       "      <th></th>\n",
       "      <th></th>\n",
       "      <th></th>\n",
       "      <th></th>\n",
       "    </tr>\n",
       "  </thead>\n",
       "  <tbody>\n",
       "    <tr>\n",
       "      <th>40034054600</th>\n",
       "      <td>40034054600</td>\n",
       "      <td>622240</td>\n",
       "      <td>757206958</td>\n",
       "      <td>1</td>\n",
       "      <td>0</td>\n",
       "      <td>226346000.0</td>\n",
       "      <td>18.89</td>\n",
       "      <td>0.96</td>\n",
       "      <td>33.54</td>\n",
       "      <td>1.01</td>\n",
       "      <td>...</td>\n",
       "      <td>NaN</td>\n",
       "      <td>NaN</td>\n",
       "      <td>NaN</td>\n",
       "      <td>NaN</td>\n",
       "      <td>NaN</td>\n",
       "      <td>NaN</td>\n",
       "      <td>NaN</td>\n",
       "      <td>NaN</td>\n",
       "      <td>0.2157</td>\n",
       "      <td>1.073172e+09</td>\n",
       "    </tr>\n",
       "    <tr>\n",
       "      <th>40184443900</th>\n",
       "      <td>40184443900</td>\n",
       "      <td>634230</td>\n",
       "      <td>758506851</td>\n",
       "      <td>1</td>\n",
       "      <td>0</td>\n",
       "      <td>972896000.0</td>\n",
       "      <td>49.25</td>\n",
       "      <td>0.21</td>\n",
       "      <td>85.90</td>\n",
       "      <td>0.31</td>\n",
       "      <td>...</td>\n",
       "      <td>NaN</td>\n",
       "      <td>NaN</td>\n",
       "      <td>NaN</td>\n",
       "      <td>NaN</td>\n",
       "      <td>NaN</td>\n",
       "      <td>NaN</td>\n",
       "      <td>NaN</td>\n",
       "      <td>NaN</td>\n",
       "      <td>1.6125</td>\n",
       "      <td>1.074472e+09</td>\n",
       "    </tr>\n",
       "    <tr>\n",
       "      <th>40202296800</th>\n",
       "      <td>40202296800</td>\n",
       "      <td>635890</td>\n",
       "      <td>758658180</td>\n",
       "      <td>1</td>\n",
       "      <td>0</td>\n",
       "      <td>638367000.0</td>\n",
       "      <td>12.44</td>\n",
       "      <td>0.97</td>\n",
       "      <td>106.58</td>\n",
       "      <td>3.55</td>\n",
       "      <td>...</td>\n",
       "      <td>NaN</td>\n",
       "      <td>NaN</td>\n",
       "      <td>NaN</td>\n",
       "      <td>NaN</td>\n",
       "      <td>NaN</td>\n",
       "      <td>NaN</td>\n",
       "      <td>NaN</td>\n",
       "      <td>NaN</td>\n",
       "      <td>1.7782</td>\n",
       "      <td>1.074623e+09</td>\n",
       "    </tr>\n",
       "    <tr>\n",
       "      <th>40224091700</th>\n",
       "      <td>40224091700</td>\n",
       "      <td>638260</td>\n",
       "      <td>758848929</td>\n",
       "      <td>1</td>\n",
       "      <td>0</td>\n",
       "      <td>238387000.0</td>\n",
       "      <td>54.83</td>\n",
       "      <td>0.27</td>\n",
       "      <td>335.25</td>\n",
       "      <td>0.31</td>\n",
       "      <td>...</td>\n",
       "      <td>NaN</td>\n",
       "      <td>NaN</td>\n",
       "      <td>NaN</td>\n",
       "      <td>NaN</td>\n",
       "      <td>NaN</td>\n",
       "      <td>NaN</td>\n",
       "      <td>NaN</td>\n",
       "      <td>NaN</td>\n",
       "      <td>2.0469</td>\n",
       "      <td>1.074814e+09</td>\n",
       "    </tr>\n",
       "    <tr>\n",
       "      <th>40300846100</th>\n",
       "      <td>40300846100</td>\n",
       "      <td>646220</td>\n",
       "      <td>759507673</td>\n",
       "      <td>1</td>\n",
       "      <td>0</td>\n",
       "      <td>902280000.0</td>\n",
       "      <td>38.05</td>\n",
       "      <td>0.38</td>\n",
       "      <td>320.20</td>\n",
       "      <td>0.77</td>\n",
       "      <td>...</td>\n",
       "      <td>NaN</td>\n",
       "      <td>NaN</td>\n",
       "      <td>NaN</td>\n",
       "      <td>NaN</td>\n",
       "      <td>NaN</td>\n",
       "      <td>NaN</td>\n",
       "      <td>NaN</td>\n",
       "      <td>NaN</td>\n",
       "      <td>2.8571</td>\n",
       "      <td>1.075472e+09</td>\n",
       "    </tr>\n",
       "    <tr>\n",
       "      <th>40342062100</th>\n",
       "      <td>40342062100</td>\n",
       "      <td>650050</td>\n",
       "      <td>759865433</td>\n",
       "      <td>1</td>\n",
       "      <td>0</td>\n",
       "      <td>68323000.0</td>\n",
       "      <td>58.41</td>\n",
       "      <td>0.35</td>\n",
       "      <td>73.92</td>\n",
       "      <td>0.33</td>\n",
       "      <td>...</td>\n",
       "      <td>NaN</td>\n",
       "      <td>NaN</td>\n",
       "      <td>NaN</td>\n",
       "      <td>NaN</td>\n",
       "      <td>NaN</td>\n",
       "      <td>NaN</td>\n",
       "      <td>NaN</td>\n",
       "      <td>NaN</td>\n",
       "      <td>3.4112</td>\n",
       "      <td>1.075830e+09</td>\n",
       "    </tr>\n",
       "    <tr>\n",
       "      <th>40353663900</th>\n",
       "      <td>40353663900</td>\n",
       "      <td>651210</td>\n",
       "      <td>759967851</td>\n",
       "      <td>1</td>\n",
       "      <td>0</td>\n",
       "      <td>785292000.0</td>\n",
       "      <td>39.01</td>\n",
       "      <td>0.41</td>\n",
       "      <td>31.28</td>\n",
       "      <td>0.61</td>\n",
       "      <td>...</td>\n",
       "      <td>NaN</td>\n",
       "      <td>NaN</td>\n",
       "      <td>NaN</td>\n",
       "      <td>NaN</td>\n",
       "      <td>NaN</td>\n",
       "      <td>NaN</td>\n",
       "      <td>NaN</td>\n",
       "      <td>NaN</td>\n",
       "      <td>3.5795</td>\n",
       "      <td>1.075933e+09</td>\n",
       "    </tr>\n",
       "    <tr>\n",
       "      <th>40406048600</th>\n",
       "      <td>40406048600</td>\n",
       "      <td>656590</td>\n",
       "      <td>760423698</td>\n",
       "      <td>1</td>\n",
       "      <td>0</td>\n",
       "      <td>44676000.0</td>\n",
       "      <td>53.04</td>\n",
       "      <td>0.27</td>\n",
       "      <td>242.80</td>\n",
       "      <td>0.26</td>\n",
       "      <td>...</td>\n",
       "      <td>NaN</td>\n",
       "      <td>NaN</td>\n",
       "      <td>NaN</td>\n",
       "      <td>NaN</td>\n",
       "      <td>NaN</td>\n",
       "      <td>NaN</td>\n",
       "      <td>NaN</td>\n",
       "      <td>NaN</td>\n",
       "      <td>4.2932</td>\n",
       "      <td>1.076388e+09</td>\n",
       "    </tr>\n",
       "    <tr>\n",
       "      <th>40431561500</th>\n",
       "      <td>40431561500</td>\n",
       "      <td>658340</td>\n",
       "      <td>760638027</td>\n",
       "      <td>1</td>\n",
       "      <td>0</td>\n",
       "      <td>75580000.0</td>\n",
       "      <td>50.37</td>\n",
       "      <td>0.50</td>\n",
       "      <td>82.43</td>\n",
       "      <td>0.55</td>\n",
       "      <td>...</td>\n",
       "      <td>NaN</td>\n",
       "      <td>NaN</td>\n",
       "      <td>NaN</td>\n",
       "      <td>NaN</td>\n",
       "      <td>NaN</td>\n",
       "      <td>NaN</td>\n",
       "      <td>NaN</td>\n",
       "      <td>NaN</td>\n",
       "      <td>4.5058</td>\n",
       "      <td>1.076603e+09</td>\n",
       "    </tr>\n",
       "    <tr>\n",
       "      <th>40447953600</th>\n",
       "      <td>40447953600</td>\n",
       "      <td>659890</td>\n",
       "      <td>760788348</td>\n",
       "      <td>1</td>\n",
       "      <td>0</td>\n",
       "      <td>33775000.0</td>\n",
       "      <td>47.92</td>\n",
       "      <td>0.54</td>\n",
       "      <td>159.87</td>\n",
       "      <td>0.92</td>\n",
       "      <td>...</td>\n",
       "      <td>NaN</td>\n",
       "      <td>NaN</td>\n",
       "      <td>NaN</td>\n",
       "      <td>NaN</td>\n",
       "      <td>NaN</td>\n",
       "      <td>NaN</td>\n",
       "      <td>NaN</td>\n",
       "      <td>NaN</td>\n",
       "      <td>4.7096</td>\n",
       "      <td>1.076753e+09</td>\n",
       "    </tr>\n",
       "  </tbody>\n",
       "</table>\n",
       "<p>10 rows × 80 columns</p>\n",
       "</div>"
      ],
      "text/plain": [
       "                      id    sdid    gpstime  sdStandard  multiEye  \\\n",
       "id                                                                  \n",
       "40034054600  40034054600  622240  757206958           1         0   \n",
       "40184443900  40184443900  634230  758506851           1         0   \n",
       "40202296800  40202296800  635890  758658180           1         0   \n",
       "40224091700  40224091700  638260  758848929           1         0   \n",
       "40300846100  40300846100  646220  759507673           1         0   \n",
       "40342062100  40342062100  650050  759865433           1         0   \n",
       "40353663900  40353663900  651210  759967851           1         0   \n",
       "40406048600  40406048600  656590  760423698           1         0   \n",
       "40431561500  40431561500  658340  760638027           1         0   \n",
       "40447953600  40447953600  659890  760788348           1         0   \n",
       "\n",
       "             sd_gpsnanotime  sd_theta  sd_dtheta  sd_phi  sd_dphi  ...  \\\n",
       "id                                                                 ...   \n",
       "40034054600     226346000.0     18.89       0.96   33.54     1.01  ...   \n",
       "40184443900     972896000.0     49.25       0.21   85.90     0.31  ...   \n",
       "40202296800     638367000.0     12.44       0.97  106.58     3.55  ...   \n",
       "40224091700     238387000.0     54.83       0.27  335.25     0.31  ...   \n",
       "40300846100     902280000.0     38.05       0.38  320.20     0.77  ...   \n",
       "40342062100      68323000.0     58.41       0.35   73.92     0.33  ...   \n",
       "40353663900     785292000.0     39.01       0.41   31.28     0.61  ...   \n",
       "40406048600      44676000.0     53.04       0.27  242.80     0.26  ...   \n",
       "40431561500      75580000.0     50.37       0.50   82.43     0.55  ...   \n",
       "40447953600      33775000.0     47.92       0.54  159.87     0.92  ...   \n",
       "\n",
       "             fd_minViewAngle  fd_uspL  fd_duspL  fd_uspR  fd_duspR  \\\n",
       "id                                                                   \n",
       "40034054600              NaN      NaN       NaN      NaN       NaN   \n",
       "40184443900              NaN      NaN       NaN      NaN       NaN   \n",
       "40202296800              NaN      NaN       NaN      NaN       NaN   \n",
       "40224091700              NaN      NaN       NaN      NaN       NaN   \n",
       "40300846100              NaN      NaN       NaN      NaN       NaN   \n",
       "40342062100              NaN      NaN       NaN      NaN       NaN   \n",
       "40353663900              NaN      NaN       NaN      NaN       NaN   \n",
       "40406048600              NaN      NaN       NaN      NaN       NaN   \n",
       "40431561500              NaN      NaN       NaN      NaN       NaN   \n",
       "40447953600              NaN      NaN       NaN      NaN       NaN   \n",
       "\n",
       "             fd_hottestStationId  fd_distSdpStation  fd_distAxisStation  \\\n",
       "id                                                                        \n",
       "40034054600                  NaN                NaN                 NaN   \n",
       "40184443900                  NaN                NaN                 NaN   \n",
       "40202296800                  NaN                NaN                 NaN   \n",
       "40224091700                  NaN                NaN                 NaN   \n",
       "40300846100                  NaN                NaN                 NaN   \n",
       "40342062100                  NaN                NaN                 NaN   \n",
       "40353663900                  NaN                NaN                 NaN   \n",
       "40406048600                  NaN                NaN                 NaN   \n",
       "40431561500                  NaN                NaN                 NaN   \n",
       "40447953600                  NaN                NaN                 NaN   \n",
       "\n",
       "             sd_exposure       utctime  \n",
       "id                                      \n",
       "40034054600       0.2157  1.073172e+09  \n",
       "40184443900       1.6125  1.074472e+09  \n",
       "40202296800       1.7782  1.074623e+09  \n",
       "40224091700       2.0469  1.074814e+09  \n",
       "40300846100       2.8571  1.075472e+09  \n",
       "40342062100       3.4112  1.075830e+09  \n",
       "40353663900       3.5795  1.075933e+09  \n",
       "40406048600       4.2932  1.076388e+09  \n",
       "40431561500       4.5058  1.076603e+09  \n",
       "40447953600       4.7096  1.076753e+09  \n",
       "\n",
       "[10 rows x 80 columns]"
      ]
     },
     "execution_count": 8,
     "metadata": {},
     "output_type": "execute_result"
    }
   ],
   "source": [
    "df.head(10)"
   ]
  },
  {
   "cell_type": "markdown",
   "metadata": {
    "papermill": {
     "duration": 0.020548,
     "end_time": "2021-10-21T16:35:46.862025",
     "exception": false,
     "start_time": "2021-10-21T16:35:46.841477",
     "status": "completed"
    },
    "tags": []
   },
   "source": [
    "## Calculation of the weather correction\n",
    "\n",
    "For each reconstructed shower-event, the signals S at the reference distance from the shower axis of 1000 m, S(1000), obtained from the ﬁt to the lateral dis\n",
    "tribution of the signals measured in the individual water Cherenkov detectors, are expected to be modulated according to:\n",
    "\n",
    "$$\n",
    "S = S_0[1+\\alpha_P (P-P_0) + \\alpha_ρ (ρ_d-ρ_0)+\\beta_ρ(ρ̃  - ρ_d)]\n",
    "$$\n",
    "\n",
    "where P<sub>0</sub> and ρ<sub>0</sub> are reference values for pressure and air-density corresponding to averages at the site of the Pierre Auger Observatory measured over the years of operation. S<sub>0</sub> is the value of the signal that would have been obtained at those reference atmospheric conditions, ρ<sub>d</sub> is the daily average of the density (within ±12 h of the event) while P and ρ are the actual pressure and density determined at ground level at the time of the event, and ρ̃is the density that was determined two hours before. The coeﬃcients α<sub>P</sub> , α<sub>ρ</sub> and β<sub>ρ</sub> parameterize the assumed linear dependence of the signal modulation.\n",
    "\n"
   ]
  },
  {
   "cell_type": "code",
   "execution_count": 9,
   "metadata": {
    "execution": {
     "iopub.execute_input": "2021-10-21T16:35:46.907293Z",
     "iopub.status.busy": "2021-10-21T16:35:46.906643Z",
     "iopub.status.idle": "2021-10-21T16:35:46.911052Z",
     "shell.execute_reply": "2021-10-21T16:35:46.910512Z",
     "shell.execute_reply.started": "2021-10-21T16:29:34.999510Z"
    },
    "papermill": {
     "duration": 0.028012,
     "end_time": "2021-10-21T16:35:46.911197",
     "exception": false,
     "start_time": "2021-10-21T16:35:46.883185",
     "status": "completed"
    },
    "tags": []
   },
   "outputs": [],
   "source": [
    "refP = 861.742  # reference values for pressure P_0 \n",
    "refRho = 1.05435 # reference values for air density ρ_0"
   ]
  },
  {
   "cell_type": "markdown",
   "metadata": {
    "papermill": {
     "duration": 0.020517,
     "end_time": "2021-10-21T16:35:46.953015",
     "exception": false,
     "start_time": "2021-10-21T16:35:46.932498",
     "status": "completed"
    },
    "tags": []
   },
   "source": [
    "The diﬀerential ﬂux of cosmic rays per unit solid angle is assumed to follow a power law E<sub>t</sub><sup>−γ</sup> , with E<sub>t</sub> the\n",
    "true energy of the cosmic rays. The spectral index is taken here as γ = 3.29,\n",
    "as determined by the Pierre Auger Observatory in [ [DOI: https://doi.org/10.22323/1.236.0271]](https://pos.sissa.it/cgi-bin/reader/contribution.cgi?id=PoS(ICRC2015)271) at energies below ∼ 5 EeV.<br>\n",
    "The dependence of the signal on the atmospheric conditions leads to a\n",
    "modulation of the rate R of recorded events.\n",
    "For the assumed cosmic-ray energy spectrum with the shape of a power-law, the relation between the rate coeﬃcients and the signal ones is a<sub>P,ρ</sub> = B(γ −1)α<sub>P,ρ</sub> and similarly b<sub>ρ</sub> = B(γ − 1)β<sub>ρ</sub> . The coeﬃcient B is derived from the energy calibration and is equal to B = 1.023 ± 0.006 for the SD of the Observatory."
   ]
  },
  {
   "cell_type": "markdown",
   "metadata": {
    "papermill": {
     "duration": 0.020314,
     "end_time": "2021-10-21T16:35:46.995014",
     "exception": false,
     "start_time": "2021-10-21T16:35:46.974700",
     "status": "completed"
    },
    "tags": []
   },
   "source": [
    "To determine the atmospheric coeﬃcients we compute the rate by counting the events in one hour bins and normalizing to the corresponding area of\n",
    "the array at that time, which is calculated from the total number of hexagons\n",
    "of active neighboring detectors, which is known at every second.\n",
    "The expected number of events in bin *i* is given by:\n",
    "\n",
    "$$µ_i = R_0 × A_i × C_i$$\n",
    "\n",
    "where R<sub>0</sub> is the average rate that would have been observed if the atmospheric parameters were always the reference ones, and C is the correction that we are going to calculate:\n",
    "\n",
    "$$C_i = 1 + a_P (P_i − P_0 ) + a_ρ (ρ _{d_i} − ρ_0 ) + b_ρ (ρ̃ _i − ρ_{d_i} )$$"
   ]
  },
  {
   "cell_type": "code",
   "execution_count": 10,
   "metadata": {
    "execution": {
     "iopub.execute_input": "2021-10-21T16:35:47.061207Z",
     "iopub.status.busy": "2021-10-21T16:35:47.060475Z",
     "iopub.status.idle": "2021-10-21T16:35:47.125880Z",
     "shell.execute_reply": "2021-10-21T16:35:47.125313Z",
     "shell.execute_reply.started": "2021-10-21T16:29:35.006363Z"
    },
    "papermill": {
     "duration": 0.109874,
     "end_time": "2021-10-21T16:35:47.126033",
     "exception": false,
     "start_time": "2021-10-21T16:35:47.016159",
     "status": "completed"
    },
    "tags": []
   },
   "outputs": [],
   "source": [
    "weather_interp = interp1d(wsData.time, wsData[['pressure', 'density', 'density2HoursBefore']].transpose())"
   ]
  },
  {
   "cell_type": "code",
   "execution_count": 11,
   "metadata": {
    "execution": {
     "iopub.execute_input": "2021-10-21T16:35:47.172677Z",
     "iopub.status.busy": "2021-10-21T16:35:47.171987Z",
     "iopub.status.idle": "2021-10-21T16:35:47.173383Z",
     "shell.execute_reply": "2021-10-21T16:35:47.173961Z",
     "shell.execute_reply.started": "2021-10-21T16:29:35.098084Z"
    },
    "papermill": {
     "duration": 0.027232,
     "end_time": "2021-10-21T16:35:47.174124",
     "exception": false,
     "start_time": "2021-10-21T16:35:47.146892",
     "status": "completed"
    },
    "tags": []
   },
   "outputs": [],
   "source": [
    "rateConv = 1.023 * (3.29 - 1) #B(gamma - 1):conversion between rate parameters (a, b) and signal ones (alpha, beta)"
   ]
  },
  {
   "cell_type": "markdown",
   "metadata": {
    "papermill": {
     "duration": 0.020827,
     "end_time": "2021-10-21T16:35:47.215687",
     "exception": false,
     "start_time": "2021-10-21T16:35:47.194860",
     "status": "completed"
    },
    "tags": []
   },
   "source": [
    "We define the correction function"
   ]
  },
  {
   "cell_type": "code",
   "execution_count": 12,
   "metadata": {
    "execution": {
     "iopub.execute_input": "2021-10-21T16:35:47.260194Z",
     "iopub.status.busy": "2021-10-21T16:35:47.259492Z",
     "iopub.status.idle": "2021-10-21T16:35:47.266552Z",
     "shell.execute_reply": "2021-10-21T16:35:47.267114Z",
     "shell.execute_reply.started": "2021-10-21T16:29:35.105876Z"
    },
    "papermill": {
     "duration": 0.031037,
     "end_time": "2021-10-21T16:35:47.267298",
     "exception": false,
     "start_time": "2021-10-21T16:35:47.236261",
     "status": "completed"
    },
    "tags": []
   },
   "outputs": [],
   "source": [
    "def correctionFunction(gps , zenith):\n",
    "    '''\n",
    "    parametrization of atmospheric coefficients as a function of sinus of the zenith angle\n",
    "    '''\n",
    "    pressure, density, density2HoursBefore = weather_interp(gps)\n",
    "\n",
    "    x = pow(np.sin(np.radians(zenith)),2)\n",
    "    alphaP = (2.1e-3 - x * 2.6e-2 + x * x *2.6e-2) / rateConv  \n",
    "    alphaRho = (-2.7 + x * 1.5 + x*x*2.2)/rateConv\n",
    "    betaRho = (-1.0 + x *1.2)/rateConv\n",
    "    corr = 1 + alphaP * (pressure - refP) + alphaRho * (density - refRho) + betaRho*(density2HoursBefore - density)\n",
    "    return 1/corr "
   ]
  },
  {
   "cell_type": "markdown",
   "metadata": {
    "papermill": {
     "duration": 0.02094,
     "end_time": "2021-10-21T16:35:47.310769",
     "exception": false,
     "start_time": "2021-10-21T16:35:47.289829",
     "status": "completed"
    },
    "tags": []
   },
   "source": [
    "We calculate the correction for a specific event"
   ]
  },
  {
   "cell_type": "code",
   "execution_count": 13,
   "metadata": {
    "execution": {
     "iopub.execute_input": "2021-10-21T16:35:47.356038Z",
     "iopub.status.busy": "2021-10-21T16:35:47.355392Z",
     "iopub.status.idle": "2021-10-21T16:35:47.373761Z",
     "shell.execute_reply": "2021-10-21T16:35:47.374324Z",
     "shell.execute_reply.started": "2021-10-21T16:29:35.124251Z"
    },
    "papermill": {
     "duration": 0.042513,
     "end_time": "2021-10-21T16:35:47.374505",
     "exception": false,
     "start_time": "2021-10-21T16:35:47.331992",
     "status": "completed"
    },
    "tags": []
   },
   "outputs": [],
   "source": [
    "#calculate the correction for a specific event \n",
    "dfSel = df.loc[40431561500] #(e.g id==0431561500)\n",
    "#dfSel = df.loc[182426706400] #(e.g id==182426706400)\n",
    "\n",
    "corr = np.round(correctionFunction(dfSel.utctime, dfSel.sd_theta), 3)"
   ]
  },
  {
   "cell_type": "markdown",
   "metadata": {
    "papermill": {
     "duration": 0.020484,
     "end_time": "2021-10-21T16:35:47.415952",
     "exception": false,
     "start_time": "2021-10-21T16:35:47.395468",
     "status": "completed"
    },
    "tags": []
   },
   "source": [
    "Finally we compare the calculated correction to the tabulated value:"
   ]
  },
  {
   "cell_type": "code",
   "execution_count": 14,
   "metadata": {
    "execution": {
     "iopub.execute_input": "2021-10-21T16:35:47.461590Z",
     "iopub.status.busy": "2021-10-21T16:35:47.460914Z",
     "iopub.status.idle": "2021-10-21T16:35:47.467680Z",
     "shell.execute_reply": "2021-10-21T16:35:47.467058Z",
     "shell.execute_reply.started": "2021-10-21T16:29:35.146681Z"
    },
    "papermill": {
     "duration": 0.030559,
     "end_time": "2021-10-21T16:35:47.467846",
     "exception": false,
     "start_time": "2021-10-21T16:35:47.437287",
     "status": "completed"
    },
    "tags": []
   },
   "outputs": [
    {
     "name": "stdout",
     "output_type": "stream",
     "text": [
      "Event id: 40431561500.0\n",
      "calculated correction: 0.983\n",
      "tabulated correction: 0.983\n"
     ]
    }
   ],
   "source": [
    "#compare correction values\n",
    "print(\"Event id:\", dfSel.id)\n",
    "print(\"calculated correction:\",corr)\n",
    "print(\"tabulated correction:\", dfSel.sd_wcorr)\n"
   ]
  }
 ],
 "metadata": {
  "kernelspec": {
   "display_name": "Python 3",
   "language": "python",
   "name": "python3"
  },
  "language_info": {
   "codemirror_mode": {
    "name": "ipython",
    "version": 3
   },
   "file_extension": ".py",
   "mimetype": "text/x-python",
   "name": "python",
   "nbconvert_exporter": "python",
   "pygments_lexer": "ipython3",
   "version": "3.8.5"
  },
  "papermill": {
   "default_parameters": {},
   "duration": 13.365097,
   "end_time": "2021-10-21T16:35:48.100114",
   "environment_variables": {},
   "exception": null,
   "input_path": "__notebook__.ipynb",
   "output_path": "__notebook__.ipynb",
   "parameters": {},
   "start_time": "2021-10-21T16:35:34.735017",
   "version": "2.3.3"
  }
 },
 "nbformat": 4,
 "nbformat_minor": 5
}
